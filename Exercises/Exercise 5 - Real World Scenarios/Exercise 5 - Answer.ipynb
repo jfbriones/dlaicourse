{
  "nbformat": 4,
  "nbformat_minor": 0,
  "metadata": {
    "colab": {
      "name": "Exercise 5 - Answer.ipynb",
      "provenance": [],
      "include_colab_link": true
    },
    "kernelspec": {
      "name": "python3",
      "display_name": "Python 3"
    },
    "accelerator": "GPU"
  },
  "cells": [
    {
      "cell_type": "markdown",
      "metadata": {
        "id": "view-in-github",
        "colab_type": "text"
      },
      "source": [
        "<a href=\"https://colab.research.google.com/github/jfbriones/dlaicourse/blob/master/Exercises/Exercise%205%20-%20Real%20World%20Scenarios/Exercise%205%20-%20Answer.ipynb\" target=\"_parent\"><img src=\"https://colab.research.google.com/assets/colab-badge.svg\" alt=\"Open In Colab\"/></a>"
      ]
    },
    {
      "cell_type": "code",
      "metadata": {
        "id": "dn-6c02VmqiN",
        "colab_type": "code",
        "colab": {
          "base_uri": "https://localhost:8080/",
          "height": 65
        },
        "outputId": "7ef7ba26-0619-4e9d-cb68-44599e4d7f0c"
      },
      "source": [
        "import os\n",
        "import zipfile\n",
        "import random\n",
        "import tensorflow as tf\n",
        "from tensorflow.keras.optimizers import RMSprop\n",
        "from tensorflow.keras.preprocessing.image import ImageDataGenerator\n",
        "from shutil import copyfile"
      ],
      "execution_count": 5,
      "outputs": [
        {
          "output_type": "display_data",
          "data": {
            "text/html": [
              "<p style=\"color: red;\">\n",
              "The default version of TensorFlow in Colab will soon switch to TensorFlow 2.x.<br>\n",
              "We recommend you <a href=\"https://www.tensorflow.org/guide/migrate\" target=\"_blank\">upgrade</a> now \n",
              "or ensure your notebook will continue to use TensorFlow 1.x via the <code>%tensorflow_version 1.x</code> magic:\n",
              "<a href=\"https://colab.research.google.com/notebooks/tensorflow_version.ipynb\" target=\"_blank\">more info</a>.</p>\n"
            ],
            "text/plain": [
              "<IPython.core.display.HTML object>"
            ]
          },
          "metadata": {
            "tags": []
          }
        }
      ]
    },
    {
      "cell_type": "code",
      "metadata": {
        "id": "3sd9dQWa23aj",
        "colab_type": "code",
        "colab": {
          "base_uri": "https://localhost:8080/",
          "height": 217
        },
        "outputId": "d294a5fc-375a-496b-9ea1-4c9e4e49415f"
      },
      "source": [
        "# If the URL doesn't work, visit https://www.microsoft.com/en-us/download/confirmation.aspx?id=54765\n",
        "# And right click on the 'Download Manually' link to get a new URL to the dataset\n",
        "\n",
        "# Note: This is a very large dataset and will take time to download\n",
        "\n",
        "!wget --no-check-certificate \\\n",
        "    \"https://download.microsoft.com/download/3/E/1/3E1C3F21-ECDB-4869-8368-6DEBA77B919F/kagglecatsanddogs_3367a.zip\" \\\n",
        "    -O \"/tmp/cats-and-dogs.zip\"\n",
        "\n",
        "local_zip = '/tmp/cats-and-dogs.zip'\n",
        "zip_ref   = zipfile.ZipFile(local_zip, 'r')\n",
        "zip_ref.extractall('/tmp')\n",
        "zip_ref.close()\n"
      ],
      "execution_count": 10,
      "outputs": [
        {
          "output_type": "stream",
          "text": [
            "--2020-01-20 08:22:09--  https://download.microsoft.com/download/3/E/1/3E1C3F21-ECDB-4869-8368-6DEBA77B919F/kagglecatsanddogs_3367a.zip\n",
            "Resolving download.microsoft.com (download.microsoft.com)... 104.122.44.55, 2600:1407:a800:19e::e59, 2600:1407:a800:1ac::e59\n",
            "Connecting to download.microsoft.com (download.microsoft.com)|104.122.44.55|:443... connected.\n",
            "HTTP request sent, awaiting response... 200 OK\n",
            "Length: 824894548 (787M) [application/octet-stream]\n",
            "Saving to: ‘/tmp/cats-and-dogs.zip’\n",
            "\n",
            "/tmp/cats-and-dogs. 100%[===================>] 786.68M   252MB/s    in 3.2s    \n",
            "\n",
            "2020-01-20 08:22:12 (248 MB/s) - ‘/tmp/cats-and-dogs.zip’ saved [824894548/824894548]\n",
            "\n"
          ],
          "name": "stdout"
        }
      ]
    },
    {
      "cell_type": "code",
      "metadata": {
        "id": "DM851ZmN28J3",
        "colab_type": "code",
        "colab": {
          "base_uri": "https://localhost:8080/",
          "height": 54
        },
        "outputId": "4d5aa4bf-382d-4a5b-dde1-a7ff7d665cae"
      },
      "source": [
        "print(len(os.listdir('/tmp/PetImages/Cat/')))\n",
        "print(len(os.listdir('/tmp/PetImages/Dog/')))\n",
        "\n",
        "# Expected Output:\n",
        "# 12501\n",
        "# 12501"
      ],
      "execution_count": 11,
      "outputs": [
        {
          "output_type": "stream",
          "text": [
            "12501\n",
            "12501\n"
          ],
          "name": "stdout"
        }
      ]
    },
    {
      "cell_type": "code",
      "metadata": {
        "id": "F-QkLjxpmyK2",
        "colab_type": "code",
        "colab": {}
      },
      "source": [
        "try:\n",
        "    os.mkdir('/tmp/cats-v-dogs')\n",
        "    os.mkdir('/tmp/cats-v-dogs/training')\n",
        "    os.mkdir('/tmp/cats-v-dogs/testing')\n",
        "    os.mkdir('/tmp/cats-v-dogs/training/cats')\n",
        "    os.mkdir('/tmp/cats-v-dogs/training/dogs')\n",
        "    os.mkdir('/tmp/cats-v-dogs/testing/cats')\n",
        "    os.mkdir('/tmp/cats-v-dogs/testing/dogs')\n",
        "except OSError:\n",
        "    pass"
      ],
      "execution_count": 0,
      "outputs": []
    },
    {
      "cell_type": "code",
      "metadata": {
        "id": "zvSODo0f9LaU",
        "colab_type": "code",
        "colab": {
          "base_uri": "https://localhost:8080/",
          "height": 54
        },
        "outputId": "177d7cc9-071d-49ae-9e1b-4590beed9f34"
      },
      "source": [
        "def split_data(SOURCE, TRAINING, TESTING, SPLIT_SIZE):\n",
        "    files = []\n",
        "    for filename in os.listdir(SOURCE):\n",
        "        file = SOURCE + filename\n",
        "        if os.path.getsize(file) > 0:\n",
        "            files.append(filename)\n",
        "        else:\n",
        "            print(filename + \" is zero length, so ignoring.\")\n",
        "\n",
        "    training_length = int(len(files) * SPLIT_SIZE)\n",
        "    testing_length = int(len(files) - training_length)\n",
        "    shuffled_set = random.sample(files, len(files))\n",
        "    training_set = shuffled_set[0:training_length]\n",
        "    testing_set = shuffled_set[-testing_length:]\n",
        "\n",
        "    for filename in training_set:\n",
        "        this_file = SOURCE + filename\n",
        "        destination = TRAINING + filename\n",
        "        copyfile(this_file, destination)\n",
        "\n",
        "    for filename in testing_set:\n",
        "        this_file = SOURCE + filename\n",
        "        destination = TESTING + filename\n",
        "        copyfile(this_file, destination)\n",
        "\n",
        "\n",
        "CAT_SOURCE_DIR = \"/tmp/PetImages/Cat/\"\n",
        "TRAINING_CATS_DIR = \"/tmp/cats-v-dogs/training/cats/\"\n",
        "TESTING_CATS_DIR = \"/tmp/cats-v-dogs/testing/cats/\"\n",
        "DOG_SOURCE_DIR = \"/tmp/PetImages/Dog/\"\n",
        "TRAINING_DOGS_DIR = \"/tmp/cats-v-dogs/training/dogs/\"\n",
        "TESTING_DOGS_DIR = \"/tmp/cats-v-dogs/testing/dogs/\"\n",
        "\n",
        "split_size = .9\n",
        "split_data(CAT_SOURCE_DIR, TRAINING_CATS_DIR, TESTING_CATS_DIR, split_size)\n",
        "split_data(DOG_SOURCE_DIR, TRAINING_DOGS_DIR, TESTING_DOGS_DIR, split_size)\n",
        "\n",
        "# Expected output\n",
        "# 666.jpg is zero length, so ignoring\n",
        "# 11702.jpg is zero length, so ignoring"
      ],
      "execution_count": 13,
      "outputs": [
        {
          "output_type": "stream",
          "text": [
            "666.jpg is zero length, so ignoring.\n",
            "11702.jpg is zero length, so ignoring.\n"
          ],
          "name": "stdout"
        }
      ]
    },
    {
      "cell_type": "code",
      "metadata": {
        "id": "hwHXFhVG3786",
        "colab_type": "code",
        "colab": {
          "base_uri": "https://localhost:8080/",
          "height": 90
        },
        "outputId": "85c7e06f-3a6d-49e1-f1de-361cd02160ba"
      },
      "source": [
        "print(len(os.listdir('/tmp/cats-v-dogs/training/cats/')))\n",
        "print(len(os.listdir('/tmp/cats-v-dogs/training/dogs/')))\n",
        "print(len(os.listdir('/tmp/cats-v-dogs/testing/cats/')))\n",
        "print(len(os.listdir('/tmp/cats-v-dogs/testing/dogs/')))\n",
        "\n",
        "# Expected output:\n",
        "# 11250\n",
        "# 11250\n",
        "# 1250\n",
        "# 1250"
      ],
      "execution_count": 14,
      "outputs": [
        {
          "output_type": "stream",
          "text": [
            "11250\n",
            "11250\n",
            "1250\n",
            "1250\n"
          ],
          "name": "stdout"
        }
      ]
    },
    {
      "cell_type": "code",
      "metadata": {
        "id": "-BQrav4anTmj",
        "colab_type": "code",
        "colab": {
          "base_uri": "https://localhost:8080/",
          "height": 490
        },
        "outputId": "92eaa715-9408-4943-e4b3-e73b0ebee99b"
      },
      "source": [
        "model = tf.keras.models.Sequential([\n",
        "    tf.keras.layers.Conv2D(16, (3, 3), activation='relu', input_shape=(150, 150, 3)),\n",
        "    tf.keras.layers.MaxPooling2D(2, 2),\n",
        "    tf.keras.layers.Conv2D(32, (3, 3), activation='relu'),\n",
        "    tf.keras.layers.MaxPooling2D(2, 2),\n",
        "    tf.keras.layers.Conv2D(64, (3, 3), activation='relu'),\n",
        "    tf.keras.layers.MaxPooling2D(2, 2),\n",
        "    tf.keras.layers.Flatten(),\n",
        "    tf.keras.layers.Dense(512, activation='relu'),\n",
        "    tf.keras.layers.Dense(1, activation='sigmoid')\n",
        "])\n",
        "\n",
        "model.compile(optimizer=RMSprop(lr=0.001), loss='binary_crossentropy', metrics=['acc'])\n",
        "model.summary()\n"
      ],
      "execution_count": 17,
      "outputs": [
        {
          "output_type": "stream",
          "text": [
            "Model: \"sequential_2\"\n",
            "_________________________________________________________________\n",
            "Layer (type)                 Output Shape              Param #   \n",
            "=================================================================\n",
            "conv2d_6 (Conv2D)            (None, 148, 148, 16)      448       \n",
            "_________________________________________________________________\n",
            "max_pooling2d_6 (MaxPooling2 (None, 74, 74, 16)        0         \n",
            "_________________________________________________________________\n",
            "conv2d_7 (Conv2D)            (None, 72, 72, 32)        4640      \n",
            "_________________________________________________________________\n",
            "max_pooling2d_7 (MaxPooling2 (None, 36, 36, 32)        0         \n",
            "_________________________________________________________________\n",
            "conv2d_8 (Conv2D)            (None, 34, 34, 64)        18496     \n",
            "_________________________________________________________________\n",
            "max_pooling2d_8 (MaxPooling2 (None, 17, 17, 64)        0         \n",
            "_________________________________________________________________\n",
            "flatten_2 (Flatten)          (None, 18496)             0         \n",
            "_________________________________________________________________\n",
            "dense_4 (Dense)              (None, 512)               9470464   \n",
            "_________________________________________________________________\n",
            "dense_5 (Dense)              (None, 1)                 513       \n",
            "=================================================================\n",
            "Total params: 9,494,561\n",
            "Trainable params: 9,494,561\n",
            "Non-trainable params: 0\n",
            "_________________________________________________________________\n"
          ],
          "name": "stdout"
        }
      ]
    },
    {
      "cell_type": "code",
      "metadata": {
        "id": "fQrZfVgz4j2g",
        "colab_type": "code",
        "colab": {
          "base_uri": "https://localhost:8080/",
          "height": 54
        },
        "outputId": "0b0ae5d1-3d8b-4a26-f507-b2bff5d28f38"
      },
      "source": [
        "\n",
        "TRAINING_DIR = \"/tmp/cats-v-dogs/training/\"\n",
        "train_datagen = ImageDataGenerator(rescale=1.0/255.)\n",
        "train_generator = train_datagen.flow_from_directory(TRAINING_DIR,\n",
        "                                                    batch_size=100,\n",
        "                                                    class_mode='binary',\n",
        "                                                    target_size=(150, 150))\n",
        "\n",
        "VALIDATION_DIR = \"/tmp/cats-v-dogs/testing/\"\n",
        "validation_datagen = ImageDataGenerator(rescale=1.0/255.)\n",
        "validation_generator = validation_datagen.flow_from_directory(VALIDATION_DIR,\n",
        "                                                              batch_size=100,\n",
        "                                                              class_mode='binary',\n",
        "                                                              target_size=(150, 150))\n",
        "\n",
        "# Expected Output:\n",
        "# Found 22498 images belonging to 2 classes.\n",
        "# Found 2500 images belonging to 2 classes."
      ],
      "execution_count": 18,
      "outputs": [
        {
          "output_type": "stream",
          "text": [
            "Found 22498 images belonging to 2 classes.\n",
            "Found 2500 images belonging to 2 classes.\n"
          ],
          "name": "stdout"
        }
      ]
    },
    {
      "cell_type": "code",
      "metadata": {
        "id": "5qE1G6JB4fMn",
        "colab_type": "code",
        "colab": {
          "base_uri": "https://localhost:8080/",
          "height": 1000
        },
        "outputId": "f10af8e9-0278-4ae8-8915-b9ee7966022a"
      },
      "source": [
        "# Note that this may take some time.\n",
        "history = model.fit_generator(train_generator,\n",
        "                              epochs=50,\n",
        "                              verbose=1,\n",
        "                              validation_data=validation_generator)"
      ],
      "execution_count": 19,
      "outputs": [
        {
          "output_type": "stream",
          "text": [
            "Epoch 1/50\n",
            "222/225 [============================>.] - ETA: 0s - loss: 0.6790 - acc: 0.6408"
          ],
          "name": "stdout"
        },
        {
          "output_type": "stream",
          "text": [
            "/usr/local/lib/python3.6/dist-packages/PIL/TiffImagePlugin.py:784: UserWarning: Possibly corrupt EXIF data.  Expecting to read 32 bytes but only got 0. Skipping tag 270\n",
            "  \" Skipping tag %s\" % (size, len(data), tag)\n",
            "/usr/local/lib/python3.6/dist-packages/PIL/TiffImagePlugin.py:784: UserWarning: Possibly corrupt EXIF data.  Expecting to read 5 bytes but only got 0. Skipping tag 271\n",
            "  \" Skipping tag %s\" % (size, len(data), tag)\n",
            "/usr/local/lib/python3.6/dist-packages/PIL/TiffImagePlugin.py:784: UserWarning: Possibly corrupt EXIF data.  Expecting to read 8 bytes but only got 0. Skipping tag 272\n",
            "  \" Skipping tag %s\" % (size, len(data), tag)\n",
            "/usr/local/lib/python3.6/dist-packages/PIL/TiffImagePlugin.py:784: UserWarning: Possibly corrupt EXIF data.  Expecting to read 8 bytes but only got 0. Skipping tag 282\n",
            "  \" Skipping tag %s\" % (size, len(data), tag)\n",
            "/usr/local/lib/python3.6/dist-packages/PIL/TiffImagePlugin.py:784: UserWarning: Possibly corrupt EXIF data.  Expecting to read 8 bytes but only got 0. Skipping tag 283\n",
            "  \" Skipping tag %s\" % (size, len(data), tag)\n",
            "/usr/local/lib/python3.6/dist-packages/PIL/TiffImagePlugin.py:784: UserWarning: Possibly corrupt EXIF data.  Expecting to read 20 bytes but only got 0. Skipping tag 306\n",
            "  \" Skipping tag %s\" % (size, len(data), tag)\n",
            "/usr/local/lib/python3.6/dist-packages/PIL/TiffImagePlugin.py:784: UserWarning: Possibly corrupt EXIF data.  Expecting to read 48 bytes but only got 0. Skipping tag 532\n",
            "  \" Skipping tag %s\" % (size, len(data), tag)\n",
            "/usr/local/lib/python3.6/dist-packages/PIL/TiffImagePlugin.py:802: UserWarning: Corrupt EXIF data.  Expecting to read 2 bytes but only got 0. \n",
            "  warnings.warn(str(msg))\n"
          ],
          "name": "stderr"
        },
        {
          "output_type": "stream",
          "text": [
            "224/225 [============================>.] - ETA: 0s - loss: 0.6788 - acc: 0.6402Epoch 1/50\n",
            "225/225 [==============================] - 84s 373ms/step - loss: 0.6786 - acc: 0.6400 - val_loss: 0.5711 - val_acc: 0.7188\n",
            "Epoch 2/50\n",
            "224/225 [============================>.] - ETA: 0s - loss: 0.5067 - acc: 0.7504Epoch 1/50\n",
            "225/225 [==============================] - 78s 348ms/step - loss: 0.5071 - acc: 0.7501 - val_loss: 0.5168 - val_acc: 0.7384\n",
            "Epoch 3/50\n",
            "224/225 [============================>.] - ETA: 0s - loss: 0.4267 - acc: 0.8023Epoch 1/50\n",
            "225/225 [==============================] - 76s 338ms/step - loss: 0.4268 - acc: 0.8024 - val_loss: 0.4566 - val_acc: 0.7900\n",
            "Epoch 4/50\n",
            "224/225 [============================>.] - ETA: 0s - loss: 0.3655 - acc: 0.8360Epoch 1/50\n",
            "225/225 [==============================] - 76s 337ms/step - loss: 0.3653 - acc: 0.8359 - val_loss: 0.4342 - val_acc: 0.8132\n",
            "Epoch 5/50\n",
            "224/225 [============================>.] - ETA: 0s - loss: 0.2993 - acc: 0.8701Epoch 1/50\n",
            "225/225 [==============================] - 75s 335ms/step - loss: 0.2996 - acc: 0.8699 - val_loss: 0.4651 - val_acc: 0.7856\n",
            "Epoch 6/50\n",
            "224/225 [============================>.] - ETA: 0s - loss: 0.2307 - acc: 0.9012Epoch 1/50\n",
            "225/225 [==============================] - 74s 330ms/step - loss: 0.2306 - acc: 0.9013 - val_loss: 0.4603 - val_acc: 0.8012\n",
            "Epoch 7/50\n",
            "224/225 [============================>.] - ETA: 0s - loss: 0.1640 - acc: 0.9368Epoch 1/50\n",
            "225/225 [==============================] - 75s 333ms/step - loss: 0.1643 - acc: 0.9366 - val_loss: 0.7889 - val_acc: 0.7120\n",
            "Epoch 8/50\n",
            "224/225 [============================>.] - ETA: 0s - loss: 0.1065 - acc: 0.9610Epoch 1/50\n",
            "225/225 [==============================] - 74s 329ms/step - loss: 0.1064 - acc: 0.9610 - val_loss: 0.5359 - val_acc: 0.8228\n",
            "Epoch 9/50\n",
            "224/225 [============================>.] - ETA: 0s - loss: 0.0704 - acc: 0.9754Epoch 1/50\n",
            "225/225 [==============================] - 74s 330ms/step - loss: 0.0705 - acc: 0.9754 - val_loss: 0.6519 - val_acc: 0.8264\n",
            "Epoch 10/50\n",
            "224/225 [============================>.] - ETA: 0s - loss: 0.0566 - acc: 0.9820Epoch 1/50\n",
            "225/225 [==============================] - 73s 323ms/step - loss: 0.0564 - acc: 0.9820 - val_loss: 0.8552 - val_acc: 0.8196\n",
            "Epoch 11/50\n",
            "224/225 [============================>.] - ETA: 0s - loss: 0.0546 - acc: 0.9843Epoch 1/50\n",
            "225/225 [==============================] - 73s 324ms/step - loss: 0.0544 - acc: 0.9844 - val_loss: 1.0165 - val_acc: 0.8172\n",
            "Epoch 12/50\n",
            "224/225 [============================>.] - ETA: 0s - loss: 0.0382 - acc: 0.9884Epoch 1/50\n",
            "225/225 [==============================] - 73s 324ms/step - loss: 0.0415 - acc: 0.9875 - val_loss: 0.7047 - val_acc: 0.7708\n",
            "Epoch 13/50\n",
            "224/225 [============================>.] - ETA: 0s - loss: 0.0356 - acc: 0.9888Epoch 1/50\n",
            "225/225 [==============================] - 78s 347ms/step - loss: 0.0355 - acc: 0.9889 - val_loss: 1.0189 - val_acc: 0.8236\n",
            "Epoch 14/50\n",
            "224/225 [============================>.] - ETA: 0s - loss: 0.0547 - acc: 0.9843Epoch 1/50\n",
            "225/225 [==============================] - 76s 338ms/step - loss: 0.0546 - acc: 0.9843 - val_loss: 0.7829 - val_acc: 0.8152\n",
            "Epoch 15/50\n",
            "224/225 [============================>.] - ETA: 0s - loss: 0.0684 - acc: 0.9841Epoch 1/50\n",
            "225/225 [==============================] - 75s 333ms/step - loss: 0.0681 - acc: 0.9842 - val_loss: 0.8581 - val_acc: 0.8208\n",
            "Epoch 16/50\n",
            "224/225 [============================>.] - ETA: 0s - loss: 0.0393 - acc: 0.9893Epoch 1/50\n",
            "225/225 [==============================] - 75s 331ms/step - loss: 0.0391 - acc: 0.9893 - val_loss: 1.0334 - val_acc: 0.8132\n",
            "Epoch 17/50\n",
            "224/225 [============================>.] - ETA: 0s - loss: 0.0576 - acc: 0.9868Epoch 1/50\n",
            "225/225 [==============================] - 75s 335ms/step - loss: 0.0575 - acc: 0.9868 - val_loss: 1.0171 - val_acc: 0.8120\n",
            "Epoch 18/50\n",
            "224/225 [============================>.] - ETA: 0s - loss: 0.0411 - acc: 0.9897Epoch 1/50\n",
            "225/225 [==============================] - 74s 330ms/step - loss: 0.0413 - acc: 0.9897 - val_loss: 0.7332 - val_acc: 0.8100\n",
            "Epoch 19/50\n",
            "224/225 [============================>.] - ETA: 0s - loss: 0.0368 - acc: 0.9897Epoch 1/50\n",
            "225/225 [==============================] - 72s 322ms/step - loss: 0.0367 - acc: 0.9898 - val_loss: 1.2211 - val_acc: 0.8276\n",
            "Epoch 20/50\n",
            "224/225 [============================>.] - ETA: 0s - loss: 0.0492 - acc: 0.9875Epoch 1/50\n",
            "225/225 [==============================] - 74s 330ms/step - loss: 0.0490 - acc: 0.9876 - val_loss: 1.0410 - val_acc: 0.8048\n",
            "Epoch 21/50\n",
            "224/225 [============================>.] - ETA: 0s - loss: 0.0428 - acc: 0.9905Epoch 1/50\n",
            "225/225 [==============================] - 74s 329ms/step - loss: 0.0426 - acc: 0.9906 - val_loss: 1.0391 - val_acc: 0.8176\n",
            "Epoch 22/50\n",
            "224/225 [============================>.] - ETA: 0s - loss: 0.0453 - acc: 0.9882Epoch 1/50\n",
            "225/225 [==============================] - 74s 327ms/step - loss: 0.0458 - acc: 0.9882 - val_loss: 0.9189 - val_acc: 0.8148\n",
            "Epoch 23/50\n",
            "224/225 [============================>.] - ETA: 0s - loss: 0.0377 - acc: 0.9902Epoch 1/50\n",
            "225/225 [==============================] - 73s 325ms/step - loss: 0.0376 - acc: 0.9903 - val_loss: 1.3991 - val_acc: 0.8204\n",
            "Epoch 24/50\n",
            "224/225 [============================>.] - ETA: 0s - loss: 0.0456 - acc: 0.9880Epoch 1/50\n",
            "225/225 [==============================] - 73s 326ms/step - loss: 0.0454 - acc: 0.9880 - val_loss: 1.2109 - val_acc: 0.8204\n",
            "Epoch 25/50\n",
            "224/225 [============================>.] - ETA: 0s - loss: 0.0490 - acc: 0.9884Epoch 1/50\n",
            "225/225 [==============================] - 73s 324ms/step - loss: 0.0488 - acc: 0.9885 - val_loss: 1.4179 - val_acc: 0.8284\n",
            "Epoch 26/50\n",
            "224/225 [============================>.] - ETA: 0s - loss: 0.0582 - acc: 0.9865Epoch 1/50\n",
            "225/225 [==============================] - 73s 324ms/step - loss: 0.0579 - acc: 0.9866 - val_loss: 1.5688 - val_acc: 0.8300\n",
            "Epoch 27/50\n",
            "224/225 [============================>.] - ETA: 0s - loss: 0.0507 - acc: 0.9874Epoch 1/50\n",
            "225/225 [==============================] - 72s 321ms/step - loss: 0.0504 - acc: 0.9875 - val_loss: 1.6454 - val_acc: 0.8216\n",
            "Epoch 28/50\n",
            "224/225 [============================>.] - ETA: 0s - loss: 0.0705 - acc: 0.9832Epoch 1/50\n",
            "225/225 [==============================] - 72s 322ms/step - loss: 0.0714 - acc: 0.9827 - val_loss: 0.6347 - val_acc: 0.7848\n",
            "Epoch 29/50\n",
            "224/225 [============================>.] - ETA: 0s - loss: 0.0473 - acc: 0.9888Epoch 1/50\n",
            "225/225 [==============================] - 77s 342ms/step - loss: 0.0482 - acc: 0.9884 - val_loss: 2.5989 - val_acc: 0.7088\n",
            "Epoch 30/50\n",
            "224/225 [============================>.] - ETA: 0s - loss: 0.0828 - acc: 0.9819Epoch 1/50\n",
            "225/225 [==============================] - 79s 350ms/step - loss: 0.0824 - acc: 0.9820 - val_loss: 1.2321 - val_acc: 0.8144\n",
            "Epoch 31/50\n",
            "224/225 [============================>.] - ETA: 0s - loss: 0.0759 - acc: 0.9817Epoch 1/50\n",
            "225/225 [==============================] - 78s 347ms/step - loss: 0.0756 - acc: 0.9818 - val_loss: 1.2756 - val_acc: 0.8200\n",
            "Epoch 32/50\n",
            "224/225 [============================>.] - ETA: 0s - loss: 0.1258 - acc: 0.9773Epoch 1/50\n",
            "225/225 [==============================] - 79s 350ms/step - loss: 0.1252 - acc: 0.9774 - val_loss: 1.3989 - val_acc: 0.8144\n",
            "Epoch 33/50\n",
            "224/225 [============================>.] - ETA: 0s - loss: 0.0605 - acc: 0.9860Epoch 1/50\n",
            "225/225 [==============================] - 78s 349ms/step - loss: 0.0637 - acc: 0.9856 - val_loss: 4.0011 - val_acc: 0.5716\n",
            "Epoch 34/50\n",
            "224/225 [============================>.] - ETA: 0s - loss: 0.1162 - acc: 0.9804Epoch 1/50\n",
            "225/225 [==============================] - 78s 347ms/step - loss: 0.1157 - acc: 0.9805 - val_loss: 1.6327 - val_acc: 0.8188\n",
            "Epoch 35/50\n",
            "224/225 [============================>.] - ETA: 0s - loss: 0.0824 - acc: 0.9803Epoch 1/50\n",
            "225/225 [==============================] - 80s 354ms/step - loss: 0.0820 - acc: 0.9804 - val_loss: 1.3585 - val_acc: 0.8140\n",
            "Epoch 36/50\n",
            "224/225 [============================>.] - ETA: 0s - loss: 0.0926 - acc: 0.9846Epoch 1/50\n",
            "225/225 [==============================] - 79s 352ms/step - loss: 0.0923 - acc: 0.9846 - val_loss: 1.3401 - val_acc: 0.8100\n",
            "Epoch 37/50\n",
            "224/225 [============================>.] - ETA: 0s - loss: 0.0749 - acc: 0.9800Epoch 1/50\n",
            "225/225 [==============================] - 78s 347ms/step - loss: 0.0746 - acc: 0.9800 - val_loss: 1.6108 - val_acc: 0.8272\n",
            "Epoch 38/50\n",
            "224/225 [============================>.] - ETA: 0s - loss: 0.1333 - acc: 0.9785Epoch 1/50\n",
            "225/225 [==============================] - 79s 350ms/step - loss: 0.1327 - acc: 0.9786 - val_loss: 1.2432 - val_acc: 0.7980\n",
            "Epoch 39/50\n",
            "224/225 [============================>.] - ETA: 0s - loss: 0.0727 - acc: 0.9815Epoch 1/50\n",
            "225/225 [==============================] - 79s 353ms/step - loss: 0.0724 - acc: 0.9816 - val_loss: 1.5239 - val_acc: 0.8176\n",
            "Epoch 40/50\n",
            "224/225 [============================>.] - ETA: 0s - loss: 0.0903 - acc: 0.9783Epoch 1/50\n",
            "225/225 [==============================] - 80s 355ms/step - loss: 0.0900 - acc: 0.9784 - val_loss: 1.4067 - val_acc: 0.8212\n",
            "Epoch 41/50\n",
            "224/225 [============================>.] - ETA: 0s - loss: 0.0727 - acc: 0.9812Epoch 1/50\n",
            "225/225 [==============================] - 79s 351ms/step - loss: 0.0724 - acc: 0.9813 - val_loss: 1.6729 - val_acc: 0.8212\n",
            "Epoch 42/50\n",
            "224/225 [============================>.] - ETA: 0s - loss: 0.1446 - acc: 0.9794Epoch 1/50\n",
            "225/225 [==============================] - 77s 340ms/step - loss: 0.1440 - acc: 0.9795 - val_loss: 1.1712 - val_acc: 0.8040\n",
            "Epoch 43/50\n",
            "224/225 [============================>.] - ETA: 0s - loss: 0.0794 - acc: 0.9836Epoch 1/50\n",
            "225/225 [==============================] - 77s 341ms/step - loss: 0.0792 - acc: 0.9836 - val_loss: 1.4213 - val_acc: 0.8032\n",
            "Epoch 44/50\n",
            "224/225 [============================>.] - ETA: 0s - loss: 0.1079 - acc: 0.9806Epoch 1/50\n",
            "225/225 [==============================] - 77s 340ms/step - loss: 0.1076 - acc: 0.9806 - val_loss: 2.3388 - val_acc: 0.7984\n",
            "Epoch 45/50\n",
            "224/225 [============================>.] - ETA: 0s - loss: 0.0785 - acc: 0.9829Epoch 1/50\n",
            "225/225 [==============================] - 77s 343ms/step - loss: 0.0781 - acc: 0.9829 - val_loss: 2.0682 - val_acc: 0.8220\n",
            "Epoch 46/50\n",
            "224/225 [============================>.] - ETA: 0s - loss: 0.0932 - acc: 0.9778Epoch 1/50\n",
            "225/225 [==============================] - 78s 346ms/step - loss: 0.0929 - acc: 0.9778 - val_loss: 1.3929 - val_acc: 0.8040\n",
            "Epoch 47/50\n",
            "224/225 [============================>.] - ETA: 0s - loss: 0.0702 - acc: 0.9838Epoch 1/50\n",
            "225/225 [==============================] - 76s 339ms/step - loss: 0.0699 - acc: 0.9839 - val_loss: 1.5017 - val_acc: 0.8160\n",
            "Epoch 48/50\n",
            "224/225 [============================>.] - ETA: 0s - loss: 0.1054 - acc: 0.9829Epoch 1/50\n",
            "225/225 [==============================] - 75s 332ms/step - loss: 0.1051 - acc: 0.9830 - val_loss: 1.8942 - val_acc: 0.7764\n",
            "Epoch 49/50\n",
            "224/225 [============================>.] - ETA: 0s - loss: 0.1016 - acc: 0.9794Epoch 1/50\n",
            "225/225 [==============================] - 74s 329ms/step - loss: 0.1015 - acc: 0.9794 - val_loss: 2.7957 - val_acc: 0.7612\n",
            "Epoch 50/50\n",
            "224/225 [============================>.] - ETA: 0s - loss: 0.0811 - acc: 0.9777Epoch 1/50\n",
            "225/225 [==============================] - 74s 331ms/step - loss: 0.0808 - acc: 0.9778 - val_loss: 1.6022 - val_acc: 0.8148\n"
          ],
          "name": "stdout"
        }
      ]
    },
    {
      "cell_type": "code",
      "metadata": {
        "id": "MWZrJN4-65RC",
        "colab_type": "code",
        "colab": {
          "base_uri": "https://localhost:8080/",
          "height": 565
        },
        "outputId": "3df97be2-f260-4b44-ad89-19ffda6901ec"
      },
      "source": [
        "%matplotlib inline\n",
        "\n",
        "import matplotlib.image  as mpimg\n",
        "import matplotlib.pyplot as plt\n",
        "\n",
        "#-----------------------------------------------------------\n",
        "# Retrieve a list of list results on training and test data\n",
        "# sets for each training epoch\n",
        "#-----------------------------------------------------------\n",
        "acc=history.history['acc']\n",
        "val_acc=history.history['val_acc']\n",
        "loss=history.history['loss']\n",
        "val_loss=history.history['val_loss']\n",
        "\n",
        "epochs=range(len(acc)) # Get number of epochs\n",
        "\n",
        "#------------------------------------------------\n",
        "# Plot training and validation accuracy per epoch\n",
        "#------------------------------------------------\n",
        "plt.plot(epochs, acc, 'r', \"Training Accuracy\")\n",
        "plt.plot(epochs, val_acc, 'b', \"Validation Accuracy\")\n",
        "plt.title('Training and validation accuracy')\n",
        "plt.figure()\n",
        "\n",
        "#------------------------------------------------\n",
        "# Plot training and validation loss per epoch\n",
        "#------------------------------------------------\n",
        "plt.plot(epochs, loss, 'r', \"Training Loss\")\n",
        "plt.plot(epochs, val_loss, 'b', \"Validation Loss\")\n",
        "plt.figure()\n",
        "\n",
        "\n",
        "# Desired output. Charts with training and validation metrics. No crash :)"
      ],
      "execution_count": 20,
      "outputs": [
        {
          "output_type": "execute_result",
          "data": {
            "text/plain": [
              "<Figure size 432x288 with 0 Axes>"
            ]
          },
          "metadata": {
            "tags": []
          },
          "execution_count": 20
        },
        {
          "output_type": "display_data",
          "data": {
            "image/png": "[encoded data removed]",
            "text/plain": [
              "<Figure size 432x288 with 1 Axes>"
            ]
          },
          "metadata": {
            "tags": []
          }
        },
        {
          "output_type": "display_data",
          "data": {
            "image/png": "[encoded data removed]",
            "text/plain": [
              "<Figure size 432x288 with 1 Axes>"
            ]
          },
          "metadata": {
            "tags": []
          }
        },
        {
          "output_type": "display_data",
          "data": {
            "text/plain": [
              "<Figure size 432x288 with 0 Axes>"
            ]
          },
          "metadata": {
            "tags": []
          }
        }
      ]
    },
    {
      "cell_type": "code",
      "metadata": {
        "id": "LqL6FYUrtXpf",
        "colab_type": "code",
        "colab": {}
      },
      "source": [
        "# Here's a codeblock just for fun. You should be able to upload an image here \n",
        "# and have it classified without crashing\n",
        "import numpy as np\n",
        "from google.colab import files\n",
        "from keras.preprocessing import image\n",
        "\n",
        "uploaded = files.upload()\n",
        "\n",
        "for fn in uploaded.keys():\n",
        " \n",
        "  # predicting images\n",
        "  path = '/content/' + fn\n",
        "  img = image.load_img(path, target_size=(150, 150))\n",
        "  x = image.img_to_array(img)\n",
        "  x = np.expand_dims(x, axis=0)\n",
        "\n",
        "  images = np.vstack([x])\n",
        "  classes = model.predict(images, batch_size=10)\n",
        "  print(classes[0])\n",
        "  if classes[0]>0.5:\n",
        "    print(fn + \" is a dog\")\n",
        "  else:\n",
        "    print(fn + \" is a cat\")"
      ],
      "execution_count": 0,
      "outputs": []
    }
  ]
}